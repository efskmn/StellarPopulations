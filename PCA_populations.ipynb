{
  "nbformat": 4,
  "nbformat_minor": 0,
  "metadata": {
    "colab": {
      "name": "PCA_populations.ipynb",
      "version": "0.3.2",
      "provenance": [],
      "include_colab_link": true
    },
    "kernelspec": {
      "name": "python3",
      "display_name": "Python 3"
    }
  },
  "cells": [
    {
      "cell_type": "markdown",
      "metadata": {
        "id": "view-in-github",
        "colab_type": "text"
      },
      "source": [
        "[View in Colaboratory](https://colab.research.google.com/github/efskmn/StellarPopulations/blob/master/PCA_populations.ipynb)"
      ]
    },
    {
      "metadata": {
        "id": "2aA6VqpwiNE1",
        "colab_type": "code",
        "colab": {}
      },
      "cell_type": "code",
      "source": [
        "from glob import glob\n",
        "import numpy as np\n",
        "from astropy.table import Table\n",
        "import warnings\n",
        "from astropy.utils.exceptions import AstropyUserWarning\n",
        "#warnings.filterwarnings(\"ignore\", category=AstropyUserWarning)"
      ],
      "execution_count": 0,
      "outputs": []
    },
    {
      "metadata": {
        "id": "YBAFshgv0KZA",
        "colab_type": "code",
        "colab": {}
      },
      "cell_type": "code",
      "source": [
        "l = []; n = glob(\"*h5\"); pointings_avg = []\n",
        "for ind, val in enumerate(n):   \n",
        "    t = Table.read(val)\n",
        "    #print (val)\n",
        "    l.append(t)\n",
        "    df = t.to_pandas()\n",
        "    pointings_avg.append(np.array(np.nanmedian(df[[\"L\",\"B\"]], axis=0)))\n",
        "    t.close()\n",
        "    "
      ],
      "execution_count": 0,
      "outputs": []
    },
    {
      "metadata": {
        "id": "ifHSaDCC1pKw",
        "colab_type": "code",
        "colab": {}
      },
      "cell_type": "code",
      "source": [
        ""
      ],
      "execution_count": 0,
      "outputs": []
    }
  ]
}