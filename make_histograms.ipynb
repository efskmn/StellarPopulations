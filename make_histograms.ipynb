{
 "cells": [
  {
   "cell_type": "code",
   "execution_count": 1,
   "metadata": {
    "collapsed": false
   },
   "outputs": [],
   "source": [
    "from sklearn.decomposition import PCA\n",
    "from glob import glob\n",
    "import numpy as np\n",
    "from astropy.table import Table\n",
    "import matplotlib.pyplot as plt\n",
    "import warnings\n",
    "from astropy.utils.exceptions import AstropyUserWarning\n",
    "warnings.filterwarnings(\"ignore\", category=AstropyUserWarning)\n",
    "%matplotlib inline"
   ]
  },
  {
   "cell_type": "code",
   "execution_count": null,
   "metadata": {
    "collapsed": false
   },
   "outputs": [],
   "source": [
    "bin_number = 200\n",
    "l = []; n = sorted(glob(\"data/CALIB_LB_???d???JK.rawh5\")); pointings_avg = []"
   ]
  },
  {
   "cell_type": "code",
   "execution_count": null,
   "metadata": {
    "collapsed": false
   },
   "outputs": [],
   "source": [
    "H_array = np.zeros((len(n),bin_number**2))\n",
    "for ind, val in enumerate(n):\n",
    "    #print (ind, val)\n",
    "    t = Table.read(val)\n",
    "    df = t.to_pandas()\n",
    "    pointings_avg.append(np.array(np.nanmedian(df[[\"L\",\"B\"]], axis=0)))\n",
    "    H, xedges, yedges = np.histogram2d(t[\"J\"]-t[\"K\"], t[\"K\"], bins=bin_number,normed=True,range=[[0,4],[10,20]] )\n",
    "    H_array[ind] = H.ravel()"
   ]
  },
  {
   "cell_type": "code",
   "execution_count": null,
   "metadata": {
    "collapsed": false
   },
   "outputs": [],
   "source": [
    "pointings_avg = np.array(pointings_avg)"
   ]
  },
  {
   "cell_type": "code",
   "execution_count": null,
   "metadata": {
    "collapsed": false
   },
   "outputs": [],
   "source": [
    "print (np.mean(df[[\"L\",\"B\"]], axis=0))\n",
    "pointings_avg = np.array(pointings_avg)\n",
    "print (pointings_avg.shape)"
   ]
  },
  {
   "cell_type": "code",
   "execution_count": null,
   "metadata": {
    "collapsed": true
   },
   "outputs": [],
   "source": [
    "savehistname = \"local_histogram_fromdrive\"\n",
    "blocknumber = 0\n",
    "np.savez(savehistname, H_array=H_array, pointings_avg=pointings_avg)"
   ]
  }
 ],
 "metadata": {
  "anaconda-cloud": {},
  "kernelspec": {
   "display_name": "Python [default]",
   "language": "python",
   "name": "python3"
  },
  "language_info": {
   "codemirror_mode": {
    "name": "ipython",
    "version": 3
   },
   "file_extension": ".py",
   "mimetype": "text/x-python",
   "name": "python",
   "nbconvert_exporter": "python",
   "pygments_lexer": "ipython3",
   "version": "3.5.2"
  }
 },
 "nbformat": 4,
 "nbformat_minor": 1
}
