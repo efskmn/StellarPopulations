{
 "cells": [
  {
   "cell_type": "code",
   "execution_count": 7,
   "metadata": {
    "collapsed": false
   },
   "outputs": [],
   "source": [
    "from sklearn.decomposition import PCA\n",
    "from glob import glob\n",
    "import numpy as np\n",
    "from astropy.table import Table\n",
    "import matplotlib.pyplot as plt\n",
    "import warnings\n",
    "from astropy.utils.exceptions import AstropyUserWarning\n",
    "warnings.filterwarnings(\"ignore\", category=AstropyUserWarning)\n",
    "%matplotlib inline"
   ]
  },
  {
   "cell_type": "code",
   "execution_count": 29,
   "metadata": {
    "collapsed": false
   },
   "outputs": [],
   "source": [
    "bin_number = 200\n",
    "x_min,x_max = 0,4\n",
    "y_min,y_max = 10, 20"
   ]
  },
  {
   "cell_type": "code",
   "execution_count": 30,
   "metadata": {
    "collapsed": true
   },
   "outputs": [],
   "source": [
    "l = []; n = sorted(glob(\"data/CALIB_LB_???d???JK.rawh5\"))"
   ]
  },
  {
   "cell_type": "code",
   "execution_count": 56,
   "metadata": {
    "collapsed": false,
    "scrolled": true
   },
   "outputs": [],
   "source": [
    "x_width = (x_max-x_min)/bin_number\n",
    "y_width = (y_max-y_min)/bin_number"
   ]
  },
  {
   "cell_type": "code",
   "execution_count": 57,
   "metadata": {
    "collapsed": false
   },
   "outputs": [],
   "source": [
    "pointings_avg = []\n",
    "H_array   = np.zeros((len(n),bin_number**2))\n",
    "xed_array = np.zeros((len(n), bin_number))\n",
    "yed_array = np.zeros((len(n), bin_number))"
   ]
  },
  {
   "cell_type": "code",
   "execution_count": 58,
   "metadata": {
    "collapsed": false
   },
   "outputs": [],
   "source": [
    "for ind, val in enumerate(n):\n",
    "    t = Table.read(val)\n",
    "    # Filter for photometric errors\n",
    "    t = t[(t[\"Jerr\"] < 0.2) & (t[\"Kerr\"] < 0.2) & (t[\"Sharp\"] < 1.) & (t[\"Sharp\"] > -1.)]\n",
    "    df = t.to_pandas()\n",
    "    pointings_avg.append(np.array(np.nanmedian(df[[\"L\",\"B\"]], axis=0)))\n",
    "    H, xedges, yedges = np.histogram2d(t[\"J\"]-t[\"K\"], t[\"K\"], bins=bin_number,normed=True,range=[[x_min,x_max],[y_min,y_max]] )\n",
    "    # Take the middle of histogram edges\n",
    "    xedges = xedges[:-1]+(x_width/2.)\n",
    "    yedges = yedges[:-1]+(y_width/2.)\n",
    "    H_array[ind]   = H.ravel()\n",
    "    xed_array[ind] = xedges\n",
    "    yed_array[ind] = yedges"
   ]
  },
  {
   "cell_type": "code",
   "execution_count": 59,
   "metadata": {
    "collapsed": false
   },
   "outputs": [],
   "source": [
    "pointings_avg = np.array(pointings_avg)"
   ]
  },
  {
   "cell_type": "code",
   "execution_count": 60,
   "metadata": {
    "collapsed": false
   },
   "outputs": [
    {
     "name": "stdout",
     "output_type": "stream",
     "text": [
      "L    350.083935\n",
      "B      1.214542\n",
      "dtype: float64\n"
     ]
    }
   ],
   "source": [
    "print (np.mean(df[[\"L\",\"B\"]], axis=0))\n",
    "pointings_avg = np.array(pointings_avg)"
   ]
  },
  {
   "cell_type": "code",
   "execution_count": null,
   "metadata": {
    "collapsed": false
   },
   "outputs": [],
   "source": [
    "savehistname = \"histogram_edges_mask\"\n",
    "np.savez(savehistname, H_array=H_array, xedges=xedges, yedges=yedges, pointings_avg=pointings_avg)"
   ]
  }
 ],
 "metadata": {
  "anaconda-cloud": {},
  "kernelspec": {
   "display_name": "Python [default]",
   "language": "python",
   "name": "python3"
  },
  "language_info": {
   "codemirror_mode": {
    "name": "ipython",
    "version": 3
   },
   "file_extension": ".py",
   "mimetype": "text/x-python",
   "name": "python",
   "nbconvert_exporter": "python",
   "pygments_lexer": "ipython3",
   "version": "3.5.2"
  }
 },
 "nbformat": 4,
 "nbformat_minor": 1
}
